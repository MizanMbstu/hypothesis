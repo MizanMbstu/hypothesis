{
 "cells": [
  {
   "cell_type": "markdown",
   "metadata": {},
   "source": [
    "**(1) Many mutual funds use an investment approach involving owning stocks whose price/earnings multiples (P/Es) are less than the P/E of the S&P 500. The following data give P/Es of 49 companies that a randomly selected mutual fund owns in a particular year.**\n",
    "\n",
    "6.8, 5.6, 8.5, 8.5, 8.4, 7.5, 9.3, 9.4, 7.8, 7.1, 9.9, 9.6, 9.0, 9.4, 13.7, 16.6, 9.1, 10.1, 10.6, 11.1,\n",
    "8.9 11.7 12.8, 11.5, 12.0, 10.6, 11.1, 6.4, 12.3, 12.3, 11.4, 9.9, 14.3 11.5, 11.8, 13.3, 12.8,\n",
    "13.7, 13.9, 12.9, 14.2, 14.0, 15.5, 16.9, 18.0, 17.9, 21.8, 18.4, 34.3"
   ]
  },
  {
   "cell_type": "markdown",
   "metadata": {},
   "source": [
    "#### (a) Find a 98% CI for the mean P/E multiples.\n",
    "\n",
    "\n",
    "#### i. Use direct formula"
   ]
  },
  {
   "cell_type": "markdown",
   "metadata": {},
   "source": [
    "#### From the data we get \n",
    "                Sample mean x̄ = 12.13, \n",
    "                sample size n = 49,\n",
    "                sample standard devaition s = 4.7,\n",
    "                For 98% confidence interval α= 0.02\n",
    " Here n > 30 ,so we have to use z test\n",
    " \n",
    " Now\n",
    " z<sub>α/2</sub> = z<sub> 0.01 </sub> = 2.33"
   ]
  },
  {
   "cell_type": "markdown",
   "metadata": {},
   "source": [
    "Therefore,\n",
    "\n",
    "Lower confidence Interval = x̄ - z<sub>α/2</sub> $\\frac{s}{\\sqrt{n}}$\n",
    "\n",
    "   = 12.13 - 2.33 $\\frac{4.7}{\\sqrt{49}}$\n",
    "   \n",
    "   =10.56\n"
   ]
  },
  {
   "cell_type": "markdown",
   "metadata": {},
   "source": [
    "Upper confidence Interval = x̄ + z<sub>α/2</sub> $\\frac{s}{\\sqrt{n}}$\n",
    "\n",
    "   = 12.13 + 2.33 $\\frac{4.7}{\\sqrt{49}}$\n",
    "   \n",
    "   =13.69"
   ]
  },
  {
   "cell_type": "markdown",
   "metadata": {},
   "source": [
    "Confidence Interval  **P(10.56 < μ <13.69) = .98**"
   ]
  },
  {
   "cell_type": "markdown",
   "metadata": {},
   "source": [
    "#### ii. Use SPSS"
   ]
  },
  {
   "cell_type": "code",
   "execution_count": 1,
   "metadata": {},
   "outputs": [],
   "source": [
    "#Import the data from excel"
   ]
  },
  {
   "cell_type": "markdown",
   "metadata": {},
   "source": [
    "GET DATA /TYPE=XLSX\n",
    "\n",
    "  /FILE='C:\\Users\\Mizan\\Data.xlsx'\n",
    "  \n",
    "  /SHEET=name 'Data'\n",
    "  \n",
    "  /CELLRANGE=full\n",
    "  \n",
    "  /READNAMES=on\n",
    "  \n",
    "  /ASSUMEDSTRWIDTH=32767.`\n"
   ]
  },
  {
   "cell_type": "code",
   "execution_count": 2,
   "metadata": {},
   "outputs": [],
   "source": [
    "# See the Descriptives statistics including confidence interval for 98% cofidence "
   ]
  },
  {
   "cell_type": "markdown",
   "metadata": {},
   "source": [
    "\n",
    "EXECUTE.\n",
    "\n",
    "DATASET NAME DataSet1 WINDOW=FRONT.\n",
    "\n",
    "EXAMINE VARIABLES=x\n",
    "\n",
    "  /PLOT NONE\n",
    "  \n",
    "  /STATISTICS DESCRIPTIVES\n",
    "  \n",
    "  /CINTERVAL 98\n",
    "  \n",
    "  /MISSING LISTWISE\n",
    "  \n",
    "  /NOTOTAL.`\n"
   ]
  },
  {
   "cell_type": "markdown",
   "metadata": {},
   "source": [
    "![alt text](data2.png)"
   ]
  },
  {
   "cell_type": "markdown",
   "metadata": {},
   "source": [
    "Confidence Interval  **P(10.508 < μ <13.740) = .98**"
   ]
  },
  {
   "cell_type": "markdown",
   "metadata": {},
   "source": [
    "#### iii. Use R"
   ]
  },
  {
   "cell_type": "code",
   "execution_count": 3,
   "metadata": {},
   "outputs": [
    {
     "name": "stdout",
     "output_type": "stream",
     "text": [
      "[1] 10.56237\n",
      "[1] 13.68661\n"
     ]
    }
   ],
   "source": [
    "data <- c(\n",
    "  6.8,5.6,8.5,8.5,8.4,7.5,9.3,9.4,7.8,7.1,9.9,\n",
    "  9.6,9.0,9.4,13.7,16.6,9.1,10.1,10.6,11.1,8.9,\n",
    "  11.7,12.8,11.5,12.0,10.6,11.1,6.4,12.3,12.3,\n",
    "  11.4,9.9,14.3,11.5,11.8,13.3,12.8,13.7,13.9,\n",
    "  12.9,14.2,14.0,15.5,16.9,18.0,17.9,21.8,18.4,34.3\n",
    ")\n",
    "\n",
    "m <- mean(data)\n",
    "s<- sd(data)\n",
    "n <- length(data)\n",
    "z <- abs(qnorm(.01))\n",
    "\n",
    "LCI <- m-z*s/sqrt(n)\n",
    "UCI <- m+z*s/sqrt(n)\n",
    "\n",
    "print(LCI)\n",
    "print(UCI)\n"
   ]
  },
  {
   "cell_type": "markdown",
   "metadata": {},
   "source": [
    "Confidence Interval  **P(10.56237 < μ <13.68661) = .98**"
   ]
  },
  {
   "cell_type": "markdown",
   "metadata": {},
   "source": [
    "#### Using t test"
   ]
  },
  {
   "cell_type": "code",
   "execution_count": 4,
   "metadata": {},
   "outputs": [
    {
     "name": "stdout",
     "output_type": "stream",
     "text": [
      "[1] 10.5085\n",
      "[1] 13.74048\n"
     ]
    }
   ],
   "source": [
    "LCI <- t.test(data,conf.level = 0.98) $ conf.int[1]\n",
    "UCI <- t.test(data,conf.level = 0.98) $ conf.int[2]\n",
    "print(LCI)\n",
    "print(UCI)"
   ]
  },
  {
   "cell_type": "markdown",
   "metadata": {},
   "source": [
    "Confidence Interval  **P(10.508 < μ <13.740) = .98**"
   ]
  },
  {
   "cell_type": "markdown",
   "metadata": {},
   "source": [
    "#### (b) Interpret the result and state any assumptions you have made"
   ]
  },
  {
   "cell_type": "code",
   "execution_count": null,
   "metadata": {},
   "outputs": [],
   "source": []
  },
  {
   "cell_type": "markdown",
   "metadata": {},
   "source": [
    "**(2) In a pharmacological experiment, 35 lab rats were not given water for 11 hours and were\n",
    "then permitted access to water for 1 hour. The amounts of water consumed (mL/h) are\n",
    "given in the following:**\n",
    "\n",
    "\n",
    "10.6, 13.3, 15.5, 10.7, 9.6, 12.1, 11.8, 10.9, 9.9, 13.2, 9.3, 11.7, 9.9, 13.0, 12.3, 11.0, 13.1,\n",
    "11.0, 12.5, 13.9, 14.1, 14.8, 15.1, 12.8, 14.0, 7.1, 14.1, 12.7, 9.6, 12.5, 9.0, 12.7, 13.6, 12.5,\n",
    "12.6"
   ]
  },
  {
   "cell_type": "markdown",
   "metadata": {},
   "source": [
    "(a) Obtain a 98% CI for the mean amount of water consumed. (Use SPSS)"
   ]
  },
  {
   "cell_type": "code",
   "execution_count": 5,
   "metadata": {},
   "outputs": [],
   "source": [
    "#Import the data from excel"
   ]
  },
  {
   "cell_type": "markdown",
   "metadata": {},
   "source": [
    "GET DATA /TYPE=XLSX\n",
    "\n",
    "  /FILE='C:\\Users\\Mizan\\Data2.xlsx'\n",
    "  \n",
    "  /SHEET=name 'Data2'\n",
    "  \n",
    "  /CELLRANGE=full\n",
    "  \n",
    "  /READNAMES=on\n",
    "  \n",
    "  /ASSUMEDSTRWIDTH=32767."
   ]
  },
  {
   "cell_type": "code",
   "execution_count": 6,
   "metadata": {},
   "outputs": [],
   "source": [
    "# See the Descriptives statistics including confidence interval for 98% cofidence "
   ]
  },
  {
   "cell_type": "markdown",
   "metadata": {},
   "source": [
    "EXECUTE.\n",
    "\n",
    "DATASET NAME DataSet2 WINDOW=FRONT.\n",
    "\n",
    "EXAMINE VARIABLES=x\n",
    "\n",
    "  /PLOT NONE\n",
    "  \n",
    "  /STATISTICS DESCRIPTIVES\n",
    "  \n",
    "  /CINTERVAL 98\n",
    "  \n",
    "  /MISSING LISTWISE\n",
    "  \n",
    "  /NOTOTAL."
   ]
  },
  {
   "cell_type": "markdown",
   "metadata": {},
   "source": [
    "![alt text](data3.png)"
   ]
  },
  {
   "cell_type": "markdown",
   "metadata": {},
   "source": [
    "Confidence Interval  **P(11.282 < μ < 12.860 ) = .98**"
   ]
  },
  {
   "cell_type": "markdown",
   "metadata": {},
   "source": [
    "(b) Obtain a 98% CI for the mean amount of water consumed. [Use R]"
   ]
  },
  {
   "cell_type": "code",
   "execution_count": 7,
   "metadata": {},
   "outputs": [
    {
     "name": "stdout",
     "output_type": "stream",
     "text": [
      "[1] 11.31953\n",
      "[1] 12.82332\n"
     ]
    }
   ],
   "source": [
    "data2 <- c(10.6,13.3,15.5,10.7,9.6,12.1,11.8,10.9,9.9,13.2,9.3,11.7\n",
    "           ,9.9,13.0,12.3,11.0,13.1,11.0,12.5,13.9,14.1,14.8,15.1,12.8,14.0,\n",
    "           7.1,14.1,12.7,9.6,12.5,9.0,12.7,13.6,12.5,12.6)\n",
    "m <- mean(data2)\n",
    "s<- sd(data2)\n",
    "n <- length(data2)\n",
    "z <- abs(qnorm(.01))\n",
    "\n",
    "LCI <- m-z*s/sqrt(n)\n",
    "UCI <- m+z*s/sqrt(n)\n",
    "print(LCI)\n",
    "print(UCI)"
   ]
  },
  {
   "cell_type": "markdown",
   "metadata": {},
   "source": [
    "Confidence Interval  **P(11.31953 < μ < 82.82332 ) = .98**"
   ]
  },
  {
   "cell_type": "markdown",
   "metadata": {},
   "source": [
    "#### Using t test "
   ]
  },
  {
   "cell_type": "code",
   "execution_count": 8,
   "metadata": {},
   "outputs": [
    {
     "name": "stdout",
     "output_type": "stream",
     "text": [
      "[1] 11.28243\n",
      "[1] 12.86043\n"
     ]
    }
   ],
   "source": [
    "LCI <- t.test(data2,conf.level = 0.98) $ conf.int[1]\n",
    "UCI <- t.test(data2,conf.level = 0.98) $ conf.int[2]\n",
    "print(LCI)\n",
    "print(UCI)"
   ]
  },
  {
   "cell_type": "markdown",
   "metadata": {},
   "source": [
    "Confidence Interval  **P(11.282 < μ < 12.860 ) = .98**"
   ]
  },
  {
   "cell_type": "markdown",
   "metadata": {},
   "source": [
    "![alt text](q1.png)"
   ]
  },
  {
   "cell_type": "markdown",
   "metadata": {},
   "source": [
    "![alt text](m1.png)"
   ]
  },
  {
   "cell_type": "markdown",
   "metadata": {},
   "source": [
    "![alt text](q2.png)"
   ]
  },
  {
   "cell_type": "markdown",
   "metadata": {},
   "source": [
    "![alt text](m2.png)"
   ]
  },
  {
   "cell_type": "markdown",
   "metadata": {},
   "source": [
    "**(4) A medication is suspected of causing an elevated heart rate in a certain group of high-risk\n",
    "patients. Twenty patients from the group were given the medication. The changes in heart\n",
    "rates were found to be as follows:**\n",
    "\n",
    "-1, 8, 5, 10, 2, 12, 7, 9, 1, 3, 4, 6, 4, 12, 11, 2, -1, 10, 2, 8"
   ]
  },
  {
   "cell_type": "markdown",
   "metadata": {},
   "source": [
    "(a) Assume that the population has a normal distribution. Construct a 98% CI for the\n",
    "mean change in heart rate."
   ]
  },
  {
   "cell_type": "markdown",
   "metadata": {},
   "source": [
    "**i. Use direct formula**"
   ]
  },
  {
   "cell_type": "markdown",
   "metadata": {},
   "source": [
    "![alt text](m3.png)"
   ]
  },
  {
   "cell_type": "markdown",
   "metadata": {},
   "source": [
    "**ii. Use SPSS**"
   ]
  },
  {
   "cell_type": "code",
   "execution_count": 9,
   "metadata": {},
   "outputs": [],
   "source": [
    "#Import the data from excel"
   ]
  },
  {
   "cell_type": "markdown",
   "metadata": {},
   "source": [
    "DATASET ACTIVATE DataSet1.\n",
    "\n",
    "GET DATA /TYPE=XLSX\n",
    "\n",
    "  /FILE='C:\\Users\\Mizan\\Data3.xlsx'\n",
    "  \n",
    "  /SHEET=name 'Data3'\n",
    "  \n",
    "  /CELLRANGE=full\n",
    "  \n",
    "  /READNAMES=on\n",
    "  \n",
    "  /ASSUMEDSTRWIDTH=32767."
   ]
  },
  {
   "cell_type": "code",
   "execution_count": 10,
   "metadata": {},
   "outputs": [],
   "source": [
    "# See the Descriptives statistics including confidence interval for 98% cofidence "
   ]
  },
  {
   "cell_type": "markdown",
   "metadata": {},
   "source": [
    "EXECUTE.\n",
    "\n",
    "DATASET NAME DataSet3 WINDOW=FRONT.\n",
    "\n",
    "EXAMINE VARIABLES=x\n",
    "\n",
    "  /PLOT NONE\n",
    "  \n",
    "  /STATISTICS DESCRIPTIVES\n",
    "  \n",
    "  /CINTERVAL 98\n",
    "  \n",
    "  /MISSING LISTWISE\n",
    "  \n",
    "  /NOTOTAL.\n"
   ]
  },
  {
   "cell_type": "markdown",
   "metadata": {},
   "source": [
    "![alt text](data4.png)"
   ]
  },
  {
   "cell_type": "markdown",
   "metadata": {},
   "source": [
    "**ii. Use R**"
   ]
  },
  {
   "cell_type": "code",
   "execution_count": 11,
   "metadata": {},
   "outputs": [
    {
     "name": "stdout",
     "output_type": "stream",
     "text": [
      "[1] 3.318466\n",
      "[1] 8.081534\n"
     ]
    }
   ],
   "source": [
    "data3 <- c(-1, 8, 5, 10, 2, 12, 7, 9, 1, 3, 4, 6, 4, 12, 11, 2, -1, 10, 2, 8)\n",
    "\n",
    "LCI <- t.test(data3,conf.level = 0.98) $ conf.int[1]\n",
    "UCI <- t.test(data3,conf.level = 0.98) $ conf.int[2]\n",
    "print(LCI)\n",
    "print(UCI)"
   ]
  },
  {
   "cell_type": "markdown",
   "metadata": {},
   "source": [
    "Confidence Interval  **P(3.318466 < μ < 8.081534 ) = .98**"
   ]
  },
  {
   "cell_type": "markdown",
   "metadata": {},
   "source": [
    "**(5)The following data represent the rates (micrometers per hour) at which a razor cut made in\n",
    "the skin of anesthetized newts is closed by new cells: [Use R]**\n",
    "\n",
    "28, 20, 21, 39, 32, 23, 18, 31, 14, 23, 18, 22, 28, 24, 33, 12, 23, 21, 25, 25"
   ]
  },
  {
   "cell_type": "markdown",
   "metadata": {},
   "source": [
    "(a) Can we say that the data are approximately normally distributed?"
   ]
  },
  {
   "cell_type": "code",
   "execution_count": 12,
   "metadata": {},
   "outputs": [
    {
     "data": {
      "text/plain": [
       "\n",
       "\tShapiro-Wilk normality test\n",
       "\n",
       "data:  data4\n",
       "W = 0.97674, p-value = 0.8854\n"
      ]
     },
     "metadata": {},
     "output_type": "display_data"
    }
   ],
   "source": [
    "data4 <- c(28, 20, 21, 39, 32, 23, 18, 31, 14, 23, 18, 22, 28, 24, 33, 12, 23, 21, 25, 25)\n",
    "shapiro.test(data4)"
   ]
  },
  {
   "cell_type": "markdown",
   "metadata": {},
   "source": [
    "Here p value > 0.05 ,so we do not reject the null hypothesis.\n",
    "\n",
    "So we may say that the data are approximately **normally distributed**"
   ]
  },
  {
   "cell_type": "markdown",
   "metadata": {},
   "source": [
    "#### (b) Find a 95% CI for population mean rate µ for the new cells to close a razor cut made in the skin of anesthetized newts."
   ]
  },
  {
   "cell_type": "code",
   "execution_count": 13,
   "metadata": {},
   "outputs": [
    {
     "name": "stdout",
     "output_type": "stream",
     "text": [
      "[1] 20.9442\n",
      "[1] 27.0558\n"
     ]
    }
   ],
   "source": [
    "LCI <- t.test(data4,conf.level = 0.95) $ conf.int[1]\n",
    "UCI <- t.test(data4,conf.level = 0.95) $ conf.int[2]\n",
    "print(LCI)\n",
    "print(UCI)"
   ]
  },
  {
   "cell_type": "markdown",
   "metadata": {},
   "source": [
    "Confidence Interval  **P( 20.9442< μ < 27.0558 ) = .95**"
   ]
  },
  {
   "cell_type": "markdown",
   "metadata": {},
   "source": [
    "#### (c) Find a 99% CI for population mean rate µ."
   ]
  },
  {
   "cell_type": "code",
   "execution_count": 14,
   "metadata": {},
   "outputs": [
    {
     "name": "stdout",
     "output_type": "stream",
     "text": [
      "[1] 19.82306\n",
      "[1] 28.17694\n"
     ]
    }
   ],
   "source": [
    "LCI <- t.test(data4,conf.level = 0.99) $ conf.int[1]\n",
    "UCI <- t.test(data4,conf.level = 0.99) $ conf.int[2]\n",
    "print(LCI)\n",
    "print(UCI)"
   ]
  },
  {
   "cell_type": "markdown",
   "metadata": {},
   "source": [
    "Confidence Interval  **P(19.82306 < μ < 28.17694 ) = .99**"
   ]
  },
  {
   "cell_type": "markdown",
   "metadata": {},
   "source": [
    "#### (d) Is the 95% CI wider or narrower than the 99% CI? Briefly explain why"
   ]
  },
  {
   "cell_type": "markdown",
   "metadata": {},
   "source": [
    "**95% CI narrower than the 99% CI**"
   ]
  },
  {
   "cell_type": "markdown",
   "metadata": {},
   "source": [
    "**(6) A random sample from a normal population yields the following 25 values:**\n",
    "\n",
    "90, 87, 121, 96, 106, 107, 89, 107, 83, 92, 117, 93, 98, 120, 97, 109, 78, 87, 99, 79, 104, 85,\n",
    "91, 107, 89"
   ]
  },
  {
   "cell_type": "markdown",
   "metadata": {},
   "source": [
    "(a) Calculate an unbiased estimate σ^2 of the population variance."
   ]
  },
  {
   "cell_type": "code",
   "execution_count": null,
   "metadata": {},
   "outputs": [],
   "source": []
  },
  {
   "cell_type": "markdown",
   "metadata": {},
   "source": [
    "(b) Give approximate 99% CI for the population variance and standard deviation."
   ]
  },
  {
   "cell_type": "code",
   "execution_count": 15,
   "metadata": {},
   "outputs": [
    {
     "data": {
      "text/html": [
       "9.88623350224147"
      ],
      "text/latex": [
       "9.88623350224147"
      ],
      "text/markdown": [
       "9.88623350224147"
      ],
      "text/plain": [
       "[1] 9.886234"
      ]
     },
     "metadata": {},
     "output_type": "display_data"
    },
    {
     "data": {
      "text/html": [
       "45.5585119365306"
      ],
      "text/latex": [
       "45.5585119365306"
      ],
      "text/markdown": [
       "45.5585119365306"
      ],
      "text/plain": [
       "[1] 45.55851"
      ]
     },
     "metadata": {},
     "output_type": "display_data"
    },
    {
     "name": "stdout",
     "output_type": "stream",
     "text": [
      "[1] 360.3556\n",
      "[1] 78.19746\n"
     ]
    }
   ],
   "source": [
    "data5 <- c(90,87,121,96,106,107,89,107,83,92,117,93,98,120,97,109,78,87,99,79,104,85,91,107,89)\n",
    "alpha <- 0.01\n",
    "\n",
    "n <- length(data5)\n",
    "v <- var(data5)\n",
    "chi0.005 <- qchisq(alpha/2, df=n-1)\n",
    "chi0.005\n",
    "chi0.995 <- qchisq((1-alpha/2), df=n-1)\n",
    "chi0.995\n",
    "LCI <- (v*(n-1))/chi0.005\n",
    "UCI <- (v*(n-1))/chi0.995\n",
    "print(LCI)\n",
    "print(UCI)"
   ]
  },
  {
   "cell_type": "markdown",
   "metadata": {},
   "source": [
    "**P(78.19746 < σ^2 < 360.3556)= 0.99**"
   ]
  },
  {
   "cell_type": "markdown",
   "metadata": {},
   "source": [
    "(d) Test the normality assumption"
   ]
  },
  {
   "cell_type": "code",
   "execution_count": 16,
   "metadata": {},
   "outputs": [
    {
     "data": {
      "text/plain": [
       "\n",
       "\tShapiro-Wilk normality test\n",
       "\n",
       "data:  data5\n",
       "W = 0.95577, p-value = 0.3366\n"
      ]
     },
     "metadata": {},
     "output_type": "display_data"
    }
   ],
   "source": [
    "shapiro.test(data5)"
   ]
  },
  {
   "cell_type": "markdown",
   "metadata": {},
   "source": [
    "Here p value > 0.05 ,so we do not reject the null hypothesis.\n",
    "\n",
    "So we may say that the data are approximately **normally distributed**"
   ]
  },
  {
   "cell_type": "markdown",
   "metadata": {},
   "source": [
    "**(7) A survey conducted by Sallie Mae and Gallup of 1404 respondents found that 323 students\n",
    "paid for their education by student loans. Find the 90% confidence interval of the true\n",
    "proportion of students who paid for their education by student loans.**"
   ]
  },
  {
   "cell_type": "code",
   "execution_count": 17,
   "metadata": {},
   "outputs": [
    {
     "name": "stdout",
     "output_type": "stream",
     "text": [
      "[1] 24.12891\n",
      "[1] 21.88248\n"
     ]
    }
   ],
   "source": [
    "#Here \n",
    "alpha = 0.10\n",
    "n= 1404\n",
    "x = 323\n",
    "p_hat <- x/n\n",
    "LCI = (p_hat + sqrt((p_hat*(1-p_hat)/n)))*100\n",
    "UCI = (p_hat - sqrt((p_hat*(1-p_hat)/n)))*100\n",
    "print(LCI)\n",
    "print(UCI)"
   ]
  }
 ],
 "metadata": {
  "kernelspec": {
   "display_name": "R",
   "language": "R",
   "name": "ir"
  },
  "language_info": {
   "codemirror_mode": "r",
   "file_extension": ".r",
   "mimetype": "text/x-r-source",
   "name": "R",
   "pygments_lexer": "r",
   "version": "4.0.3"
  }
 },
 "nbformat": 4,
 "nbformat_minor": 4
}
